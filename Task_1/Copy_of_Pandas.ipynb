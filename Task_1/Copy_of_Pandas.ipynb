{
  "nbformat": 4,
  "nbformat_minor": 0,
  "metadata": {
    "colab": {
      "provenance": [],
      "authorship_tag": "ABX9TyP6HjRcBxVqWKPxkzJkbwqH",
      "include_colab_link": true
    },
    "kernelspec": {
      "name": "python3",
      "display_name": "Python 3"
    },
    "language_info": {
      "name": "python"
    }
  },
  "cells": [
    {
      "cell_type": "markdown",
      "metadata": {
        "id": "view-in-github",
        "colab_type": "text"
      },
      "source": [
        "<a href=\"https://colab.research.google.com/github/Kaifjamadar/Internship/blob/main/Task_1/Copy_of_Pandas.ipynb\" target=\"_parent\"><img src=\"https://colab.research.google.com/assets/colab-badge.svg\" alt=\"Open In Colab\"/></a>"
      ]
    },
    {
      "cell_type": "code",
      "execution_count": null,
      "metadata": {
        "colab": {
          "base_uri": "https://localhost:8080/"
        },
        "id": "-ZWWvQTKAshu",
        "outputId": "7a631019-420b-45ee-923d-da3845366284"
      },
      "outputs": [
        {
          "output_type": "stream",
          "name": "stdout",
          "text": [
            "0    3\n",
            "1    6\n",
            "2    9\n",
            "dtype: int64\n"
          ]
        }
      ],
      "source": [
        "#pandas program to pandas series\n",
        "import pandas as pd\n",
        "a =[3,6,9]\n",
        "res = pd .Series (a)\n",
        "print (res)\n"
      ]
    },
    {
      "cell_type": "code",
      "source": [
        "#pandas program to add \n",
        "import pandas as pd\n",
        "d = pd.Series([334])\n",
        "e = pd.Series([148])\n",
        "f =(d+e)\n",
        "\n"
      ],
      "metadata": {
        "id": "SqtAd7YMCh-O"
      },
      "execution_count": 9,
      "outputs": []
    },
    {
      "cell_type": "code",
      "source": [
        "#pandas program to array values \n",
        "import pandas as pd\n",
        "A=pd.DataFrame({'X':[4,7,1,3,],'Y':[3,2,4,0]})\n",
        "print (A)\n",
        "\n"
      ],
      "metadata": {
        "id": "3oymfbIaDyht",
        "colab": {
          "base_uri": "https://localhost:8080/"
        },
        "outputId": "7b39ae38-25a9-45e3-97d8-1a7d600bb1e6"
      },
      "execution_count": null,
      "outputs": [
        {
          "output_type": "stream",
          "name": "stdout",
          "text": [
            "   X  Y\n",
            "0  4  3\n",
            "1  7  2\n",
            "2  1  4\n",
            "3  3  0\n"
          ]
        }
      ]
    },
    {
      "cell_type": "code",
      "source": [
        "#pandas program of comparing pandas series\n",
        "import pandas as pd \n",
        "A=pd.Series([2,5,9])\n",
        "B=pd.Series([8,6,5])\n",
        "print (A==B)\n",
        "print (A<B)\n",
        "print (A>B)"
      ],
      "metadata": {
        "id": "Gra5HWUNG2iR",
        "colab": {
          "base_uri": "https://localhost:8080/"
        },
        "outputId": "c6f08690-7470-4805-b4e1-93bbae96a4d1"
      },
      "execution_count": 7,
      "outputs": [
        {
          "output_type": "stream",
          "name": "stdout",
          "text": [
            "0    False\n",
            "1    False\n",
            "2    False\n",
            "dtype: bool\n",
            "0     True\n",
            "1     True\n",
            "2    False\n",
            "dtype: bool\n",
            "0    False\n",
            "1    False\n",
            "2     True\n",
            "dtype: bool\n"
          ]
        }
      ]
    }
  ]
}