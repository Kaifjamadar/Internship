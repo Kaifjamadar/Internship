{
  "nbformat": 4,
  "nbformat_minor": 0,
  "metadata": {
    "colab": {
      "provenance": [],
      "mount_file_id": "17oajhjIL0lv1kjY5__azC9fVHqI3VQUr",
      "authorship_tag": "ABX9TyP07BzBmK96SjJ0bCLU7Bnk",
      "include_colab_link": true
    },
    "kernelspec": {
      "name": "python3",
      "display_name": "Python 3"
    },
    "language_info": {
      "name": "python"
    }
  },
  "cells": [
    {
      "cell_type": "markdown",
      "metadata": {
        "id": "view-in-github",
        "colab_type": "text"
      },
      "source": [
        "<a href=\"https://colab.research.google.com/github/Kaifjamadar/Internship/blob/main/Task_2/Boxplot.ipynb\" target=\"_parent\"><img src=\"https://colab.research.google.com/assets/colab-badge.svg\" alt=\"Open In Colab\"/></a>"
      ]
    },
    {
      "cell_type": "code",
      "execution_count": null,
      "metadata": {
        "id": "R2xU7F1-gCmg"
      },
      "outputs": [],
      "source": [
        "import pandas as pd \n",
        "import matplotlib.pyplot as plt\n",
        "df=pd.read_csv(\"/content/drive/MyDrive/Dataset/iris_versicolor.csv\")\n",
        "x=df['Id']\n",
        "y=df['Sepal Width (cm)']\n",
        "plt.boxplot=[df]\n",
        "plt.show()"
      ]
    },
    {
      "cell_type": "code",
      "source": [
        "import pandas as pd \n",
        "import matplotlib.pyplot as plt\n",
        "df=pd.read_csv(\"/content/drive/MyDrive/Dataset/insurance.csv\")\n",
        "a=df['age']\n",
        "b=df['children']\n",
        "plt.boxplot=[df]\n",
        "plt.show()"
      ],
      "metadata": {
        "id": "7KLZ_C-xk4xs"
      },
      "execution_count": null,
      "outputs": []
    },
    {
      "cell_type": "code",
      "source": [
        "import pandas as pd \n",
        "import matplotlib.pyplot as plt\n",
        "df=pd.read_csv(\"/content/drive/MyDrive/Dataset/fifa.csv\")\n",
        "a=df['ARG']\n",
        "b=df['ESP']\n",
        "plt.boxplot=[df]\n",
        "plt.show()"
      ],
      "metadata": {
        "id": "ZcvIqZRAlXkH"
      },
      "execution_count": null,
      "outputs": []
    }
  ]
}