{
  "nbformat": 4,
  "nbformat_minor": 0,
  "metadata": {
    "colab": {
      "provenance": [],
      "mount_file_id": "1V7aAQ0VjaUlBZcFzMR1J9esmg86ldMNh",
      "authorship_tag": "ABX9TyOz65GI/AtR5XL56QDwnxqM",
      "include_colab_link": true
    },
    "kernelspec": {
      "name": "python3",
      "display_name": "Python 3"
    },
    "language_info": {
      "name": "python"
    }
  },
  "cells": [
    {
      "cell_type": "markdown",
      "metadata": {
        "id": "view-in-github",
        "colab_type": "text"
      },
      "source": [
        "<a href=\"https://colab.research.google.com/github/Kaifjamadar/Internship/blob/main/Task_5/Linear_Regression.ipynb\" target=\"_parent\"><img src=\"https://colab.research.google.com/assets/colab-badge.svg\" alt=\"Open In Colab\"/></a>"
      ]
    },
    {
      "cell_type": "code",
      "source": [
        "import pandas as pd\n",
        "import numpy as np\n",
        "import matplotlib.pyplot as plt\n",
        "import seaborn as sns\n",
        "from sklearn.linear_model import LinearRegression\n",
        "from sklearn.model_selection import train_test_split\n",
        "from sklearn.metrics import r2_score, mean_squared_error\n",
        "\n",
        "data = pd.read_csv('/content/drive/MyDrive/Advertising.csv')\n",
        "\n",
        "plt.scatter(data['TV'], data['Sales'])\n",
        "plt.xlabel('Advertising budget')\n",
        "plt.ylabel('Sales')\n",
        "plt.show()\n",
        "\n",
        "X_train, X_test, y_train, y_test = train_test_split(data['TV'], data['Sales'], test_size=0.2, random_state=42)\n",
        "\n",
        "model = LinearRegression()\n",
        "model.fit(X_train.values.reshape(-1, 1), y_train)\n",
        "\n",
        "y_pred = model.predict(X_test.values.reshape(-1, 1))\n",
        "print('R-squared:', r2_score(y_test, y_pred))\n",
        "print('Mean squared error:', mean_squared_error(y_test, y_pred))\n"
      ],
      "metadata": {
        "colab": {
          "base_uri": "https://localhost:8080/",
          "height": 315
        },
        "id": "ePjECes7VvIA",
        "outputId": "d767422d-a2e8-4ebd-8cd3-64254e70aaa9"
      },
      "execution_count": 5,
      "outputs": [
        {
          "output_type": "display_data",
          "data": {
            "text/plain": [
              "<Figure size 432x288 with 1 Axes>"
            ],
            "image/png": "[encoded data removed]"
          },
          "metadata": {
            "needs_background": "light"
          }
        },
        {
          "output_type": "stream",
          "name": "stdout",
          "text": [
            "R-squared: 0.6766954295627076\n",
            "Mean squared error: 10.204654118800956\n"
          ]
        }
      ]
    }
  ]
}